{
 "cells": [
  {
   "cell_type": "markdown",
   "metadata": {
    "nbpresent": {
     "id": "79dabc7c-da9d-43b5-8239-1ae5ad546526"
    }
   },
   "source": [
    "# Send rate and latency versus Link Load parameter\n",
    "\n",
    "This example experiment shows how to:\n",
    "\n",
    "* how to run POOSL models with replaced system parameters\n",
    "* collect the send rate and latency data from the POOSL simulations\n",
    "* plot the trend of send rate and latency versus Link Load"
   ]
  },
  {
   "cell_type": "code",
   "execution_count": 37,
   "metadata": {
    "nbpresent": {
     "id": "282b7c2e-b6d8-4b37-a54f-482da2e8bf6a"
    }
   },
   "outputs": [],
   "source": [
    "# import the convenience utility to run parameterized POOSL models\n",
    "import run_network_model"
   ]
  },
  {
   "cell_type": "markdown",
   "metadata": {
    "nbpresent": {
     "id": "67ad3d56-fe23-4e28-8e30-2bedb37afcf9"
    }
   },
   "source": [
    "# Set up experiment\n",
    "The experiment needs to know certain parameters: such as the number of nodes, what values it should use for the default model parameters, as well as the experiment values (in this case the link load)."
   ]
  },
  {
   "cell_type": "code",
   "execution_count": 38,
   "metadata": {
    "nbpresent": {
     "id": "ad8c953e-2970-454f-a631-02f05d19a1bc"
    }
   },
   "outputs": [],
   "source": [
    "# set up the environment\n",
    "import os, numpy"
   ]
  },
  {
   "cell_type": "code",
   "execution_count": 39,
   "metadata": {
    "nbpresent": {
     "id": "b9de78e3-f170-4c01-9fb9-6bcdfe3a06f6"
    }
   },
   "outputs": [],
   "source": [
    "nrNodes = 4\n",
    "# initialize template parameters\n",
    "default_params = {'Load' : 0.95, \n",
    "                  'NIBufferCapacity' : 2,\n",
    "                  'SoC_type' : 'Mesh_2x2',\n",
    "                  'NumberOfXNodes' : 2,\n",
    "                  'NumberOfYNodes' : 2\n",
    "                 }\n",
    "\n",
    "output_directory_template = 'Mesh_2x2/load_{0}'\n",
    "\n",
    "# put the absolute path to your model here; do not forget to change \\ to / in the path on Windows\n",
    "model_path = 'C:/path/to/eclipse_project/'\n",
    "\n",
    "# define the ranges for the experiments\n",
    "load_values = numpy.linspace(0.05, 0.95, 10) # 10 evenly spaced values between 0.05 and 0.95\n",
    "## note that the output from linspace may show 0.50, but instead the real value is 0.4999994\n",
    "## Therefore the literal 0.50 cannot be used to look up the data! Use load_values[2] or similar \n",
    "## to look up the values instead."
   ]
  },
  {
   "cell_type": "markdown",
   "metadata": {
    "nbpresent": {
     "id": "03b1edfa-21a6-4aef-ac71-6e3e628fecf7"
    }
   },
   "source": [
    "## Run the parameterized models\n",
    "Now we execute one model for every `Load` value in our experiment. The `load_value` variable ranges from 0.05 to 0.95 in 4 steps. \n",
    "\n",
    "The log files are stored in separate output directories, as the output directory depends on the load parameter. "
   ]
  },
  {
   "cell_type": "code",
   "execution_count": 40,
   "metadata": {
    "nbpresent": {
     "id": "c1607331-4e4f-4f7e-a295-eb95a42963eb"
    },
    "scrolled": false
   },
   "outputs": [
    {
     "name": "stdout",
     "output_type": "stream",
     "text": [
      "Running experiment for load = 0.05\n"
     ]
    },
    {
     "data": {
      "text/html": [
       "<pre style=\"color:blue\">Real Time:            4.31 Steps:          786432 Simulated Time:         119.814\r\n",
       "Real Time:           5.714 Steps:    1.04858e+006 Simulated Time:         158.147\r\n",
       "Real Time:          12.587 Steps:     2.3593e+006 Simulated Time:         343.969\r\n",
       "Real Time:          24.057 Steps:    4.32538e+006 Simulated Time:         641.257\r\n",
       "Real Time:          31.971 Steps:    5.76717e+006 Simulated Time:         853.149\r\n",
       "Real Time:          43.752 Steps:    7.99539e+006 Simulated Time:         1181.17\r\n",
       "Real Time:           45.78 Steps:    8.38861e+006 Simulated Time:         1236.09\r\n",
       "\r\n",
       "\r\n",
       "Real time:       50.268\r\n",
       "Steps:           9220927\r\n",
       "Simulated time:  1361\r\n",
       "\r\n",
       "Fix requests granted:           0\r\n",
       "Action transitions:             6763167\r\n",
       "Communication transitions:      1386628\r\n",
       "Communication requests tested:  0\r\n",
       "Delay transitions:              1071132\r\n",
       "\r\n",
       "Delay requests granted:         1458485\r\n",
       "\r\n",
       "Garbage collection cleanup cycles: 0\r\n",
       "Number of reclaimed objects:       0\r\n",
       "\r\n",
       "Virtual machine cycles: 1254834768\r\n",
       "\r\n",
       "</pre>"
      ],
      "text/plain": [
       "<IPython.core.display.HTML object>"
      ]
     },
     "metadata": {},
     "output_type": "display_data"
    },
    {
     "data": {
      "text/html": [
       "<pre style=\"color:red\">All registered observers are activated. Caused by completion observer (SendRate3)\r\n",
       "</pre>"
      ],
      "text/plain": [
       "<IPython.core.display.HTML object>"
      ]
     },
     "metadata": {},
     "output_type": "display_data"
    },
    {
     "name": "stdout",
     "output_type": "stream",
     "text": [
      "Running experiment for load = 0.15\n"
     ]
    },
    {
     "data": {
      "text/html": [
       "<pre style=\"color:blue\">Real Time:           2.877 Steps:          524288 Simulated Time:         23.4616\r\n",
       "Real Time:           4.935 Steps:          917504 Simulated Time:         43.4724\r\n",
       "Real Time:          19.152 Steps:    3.67002e+006 Simulated Time:         178.405\r\n",
       "Real Time:           20.94 Steps:    3.93216e+006 Simulated Time:         190.766\r\n",
       "Real Time:          22.048 Steps:    4.06323e+006 Simulated Time:         197.281\r\n",
       "Real Time:           27.38 Steps:    4.98074e+006 Simulated Time:          242.46\r\n",
       "Real Time:          33.267 Steps:    6.02931e+006 Simulated Time:          291.28\r\n",
       "Real Time:          45.639 Steps:    8.38861e+006 Simulated Time:          404.42\r\n",
       "\r\n",
       "\r\n",
       "Real time:       49.245\r\n",
       "Steps:           9048170\r\n",
       "Simulated time:  436\r\n",
       "\r\n",
       "Fix requests granted:           0\r\n",
       "Action transitions:             6651560\r\n",
       "Communication transitions:      1366302\r\n",
       "Communication requests tested:  0\r\n",
       "Delay transitions:              1030308\r\n",
       "\r\n",
       "Delay requests granted:         1434137\r\n",
       "\r\n",
       "Garbage collection cleanup cycles: 0\r\n",
       "Number of reclaimed objects:       0\r\n",
       "\r\n",
       "Virtual machine cycles: 1208854380\r\n",
       "\r\n",
       "</pre>"
      ],
      "text/plain": [
       "<IPython.core.display.HTML object>"
      ]
     },
     "metadata": {},
     "output_type": "display_data"
    },
    {
     "data": {
      "text/html": [
       "<pre style=\"color:red\">All registered observers are activated. Caused by completion observer (SendRate4)\r\n",
       "</pre>"
      ],
      "text/plain": [
       "<IPython.core.display.HTML object>"
      ]
     },
     "metadata": {},
     "output_type": "display_data"
    },
    {
     "name": "stdout",
     "output_type": "stream",
     "text": [
      "Running experiment for load = 0.25\n"
     ]
    },
    {
     "data": {
      "text/html": [
       "<pre style=\"color:blue\">Real Time:            1.93 Steps:          393216 Simulated Time:         11.1489\r\n",
       "Real Time:           6.311 Steps:    1.31072e+006 Simulated Time:         37.7686\r\n",
       "Real Time:          17.519 Steps:    3.67002e+006 Simulated Time:         108.556\r\n",
       "Real Time:          27.368 Steps:    5.76717e+006 Simulated Time:         169.077\r\n",
       "Real Time:          30.537 Steps:    6.42253e+006 Simulated Time:         188.226\r\n",
       "Real Time:          31.784 Steps:    6.68467e+006 Simulated Time:         196.644\r\n",
       "Real Time:          33.671 Steps:    7.07789e+006 Simulated Time:         207.934\r\n",
       "\r\n",
       "\r\n",
       "Real time:       33.939\r\n",
       "Steps:           7081189\r\n",
       "Simulated time:  208\r\n",
       "\r\n",
       "Fix requests granted:           0\r\n",
       "Action transitions:             5216754\r\n",
       "Communication transitions:      1071978\r\n",
       "Communication requests tested:  0\r\n",
       "Delay transitions:              792457\r\n",
       "\r\n",
       "Delay requests granted:         1123259\r\n",
       "\r\n",
       "Garbage collection cleanup cycles: 0\r\n",
       "Number of reclaimed objects:       0\r\n",
       "\r\n",
       "Virtual machine cycles: 930044240\r\n",
       "\r\n",
       "</pre>"
      ],
      "text/plain": [
       "<IPython.core.display.HTML object>"
      ]
     },
     "metadata": {},
     "output_type": "display_data"
    },
    {
     "data": {
      "text/html": [
       "<pre style=\"color:red\">All registered observers are activated. Caused by completion observer (SendRate4)\r\n",
       "</pre>"
      ],
      "text/plain": [
       "<IPython.core.display.HTML object>"
      ]
     },
     "metadata": {},
     "output_type": "display_data"
    },
    {
     "name": "stdout",
     "output_type": "stream",
     "text": [
      "Running experiment for load = 0.35\n"
     ]
    },
    {
     "data": {
      "text/html": [
       "<pre style=\"color:blue\">Real Time:           1.841 Steps:          393216 Simulated Time:         7.92336\r\n",
       "Real Time:           2.424 Steps:          524288 Simulated Time:         10.7265\r\n",
       "Real Time:           3.039 Steps:          655360 Simulated Time:         13.5101\r\n",
       "Real Time:           5.498 Steps:    1.17965e+006 Simulated Time:         24.4978\r\n",
       "Real Time:           6.112 Steps:    1.31072e+006 Simulated Time:           27.33\r\n",
       "Real Time:          12.234 Steps:    2.62144e+006 Simulated Time:         54.2667\r\n",
       "Real Time:          14.046 Steps:    3.01466e+006 Simulated Time:         62.7386\r\n",
       "\r\n",
       "\r\n",
       "Real time:       20.949\r\n",
       "Steps:           4439676\r\n",
       "Simulated time:  93\r\n",
       "\r\n",
       "Fix requests granted:           0\r\n",
       "Action transitions:             3281865\r\n",
       "Communication transitions:      674080\r\n",
       "Communication requests tested:  0\r\n",
       "Delay transitions:              483731\r\n",
       "\r\n",
       "Delay requests granted:         707241\r\n",
       "\r\n",
       "Garbage collection cleanup cycles: 0\r\n",
       "Number of reclaimed objects:       0\r\n",
       "\r\n",
       "Virtual machine cycles: 568197413\r\n",
       "\r\n",
       "</pre>"
      ],
      "text/plain": [
       "<IPython.core.display.HTML object>"
      ]
     },
     "metadata": {},
     "output_type": "display_data"
    },
    {
     "data": {
      "text/html": [
       "<pre style=\"color:red\">All registered observers are activated. Caused by completion observer (SendRate4)\r\n",
       "</pre>"
      ],
      "text/plain": [
       "<IPython.core.display.HTML object>"
      ]
     },
     "metadata": {},
     "output_type": "display_data"
    },
    {
     "name": "stdout",
     "output_type": "stream",
     "text": [
      "Running experiment for load = 0.44999999999999996\n"
     ]
    },
    {
     "data": {
      "text/html": [
       "<pre style=\"color:blue\">Real Time:           2.421 Steps:          524288 Simulated Time:         8.51515\r\n",
       "Real Time:          10.154 Steps:    2.22822e+006 Simulated Time:         36.6577\r\n",
       "Real Time:          11.338 Steps:    2.49037e+006 Simulated Time:          40.852\r\n",
       "\r\n",
       "\r\n",
       "Real time:       18.951\r\n",
       "Steps:           4073931\r\n",
       "Simulated time:  67\r\n",
       "\r\n",
       "Fix requests granted:           0\r\n",
       "Action transitions:             3016826\r\n",
       "Communication transitions:      619966\r\n",
       "Communication requests tested:  0\r\n",
       "Delay transitions:              437139\r\n",
       "\r\n",
       "Delay requests granted:         649998\r\n",
       "\r\n",
       "Garbage collection cleanup cycles: 0\r\n",
       "Number of reclaimed objects:       0\r\n",
       "\r\n",
       "Virtual machine cycles: 511668231\r\n",
       "\r\n",
       "</pre>"
      ],
      "text/plain": [
       "<IPython.core.display.HTML object>"
      ]
     },
     "metadata": {},
     "output_type": "display_data"
    },
    {
     "data": {
      "text/html": [
       "<pre style=\"color:red\">All registered observers are activated. Caused by completion observer (SendRate4)\r\n",
       "</pre>"
      ],
      "text/plain": [
       "<IPython.core.display.HTML object>"
      ]
     },
     "metadata": {},
     "output_type": "display_data"
    },
    {
     "name": "stdout",
     "output_type": "stream",
     "text": [
      "Running experiment for load = 0.5499999999999999\n"
     ]
    },
    {
     "data": {
      "text/html": [
       "<pre style=\"color:blue\">\r\n",
       "\r\n",
       "Real time:       10.082\r\n",
       "Steps:           2144437\r\n",
       "Simulated time:  29\r\n",
       "\r\n",
       "Fix requests granted:           0\r\n",
       "Action transitions:             1592611\r\n",
       "Communication transitions:      327148\r\n",
       "Communication requests tested:  0\r\n",
       "Delay transitions:              224678\r\n",
       "\r\n",
       "Delay requests granted:         343156\r\n",
       "\r\n",
       "Garbage collection cleanup cycles: 0\r\n",
       "Number of reclaimed objects:       0\r\n",
       "\r\n",
       "Virtual machine cycles: 262645799\r\n",
       "\r\n",
       "</pre>"
      ],
      "text/plain": [
       "<IPython.core.display.HTML object>"
      ]
     },
     "metadata": {},
     "output_type": "display_data"
    },
    {
     "data": {
      "text/html": [
       "<pre style=\"color:red\">All registered observers are activated. Caused by completion observer (SendRate1)\r\n",
       "</pre>"
      ],
      "text/plain": [
       "<IPython.core.display.HTML object>"
      ]
     },
     "metadata": {},
     "output_type": "display_data"
    },
    {
     "name": "stdout",
     "output_type": "stream",
     "text": [
      "Running experiment for load = 0.65\n"
     ]
    },
    {
     "data": {
      "text/html": [
       "<pre style=\"color:blue\">Real Time:           8.155 Steps:    1.83501e+006 Simulated Time:         20.9232\r\n",
       "Real Time:           14.97 Steps:    3.40787e+006 Simulated Time:         38.9258\r\n",
       "Real Time:          24.241 Steps:    5.50502e+006 Simulated Time:         62.8736\r\n",
       "\r\n",
       "\r\n",
       "Real time:       25.731\r\n",
       "Steps:           5788285\r\n",
       "Simulated time:  66\r\n",
       "\r\n",
       "Fix requests granted:           0\r\n",
       "Action transitions:             4312137\r\n",
       "Communication transitions:      886146\r\n",
       "Communication requests tested:  0\r\n",
       "Delay transitions:              590002\r\n",
       "\r\n",
       "Delay requests granted:         928995\r\n",
       "\r\n",
       "Garbage collection cleanup cycles: 0\r\n",
       "Number of reclaimed objects:       0\r\n",
       "\r\n",
       "Virtual machine cycles: 687267776\r\n",
       "\r\n",
       "</pre>"
      ],
      "text/plain": [
       "<IPython.core.display.HTML object>"
      ]
     },
     "metadata": {},
     "output_type": "display_data"
    },
    {
     "data": {
      "text/html": [
       "<pre style=\"color:red\">All registered observers are activated. Caused by completion observer (Latency4)\r\n",
       "</pre>"
      ],
      "text/plain": [
       "<IPython.core.display.HTML object>"
      ]
     },
     "metadata": {},
     "output_type": "display_data"
    },
    {
     "name": "stdout",
     "output_type": "stream",
     "text": [
      "Running experiment for load = 0.75\n"
     ]
    },
    {
     "data": {
      "text/html": [
       "<pre style=\"color:blue\">Real Time:           0.592 Steps:          131072 Simulated Time:         1.34289\r\n",
       "Real Time:           6.291 Steps:    1.44179e+006 Simulated Time:         14.3712\r\n",
       "Real Time:          14.772 Steps:    3.40787e+006 Simulated Time:         33.8273\r\n",
       "Real Time:          17.575 Steps:    4.06323e+006 Simulated Time:         40.4868\r\n",
       "Real Time:          21.025 Steps:    4.84966e+006 Simulated Time:         48.3581\r\n",
       "\r\n",
       "\r\n",
       "Real time:       22.859\r\n",
       "Steps:           5216688\r\n",
       "Simulated time:  52\r\n",
       "\r\n",
       "Fix requests granted:           0\r\n",
       "Action transitions:             3897756\r\n",
       "Communication transitions:      800995\r\n",
       "Communication requests tested:  0\r\n",
       "Delay transitions:              517937\r\n",
       "\r\n",
       "Delay requests granted:         839400\r\n",
       "\r\n",
       "Garbage collection cleanup cycles: 0\r\n",
       "Number of reclaimed objects:       0\r\n",
       "\r\n",
       "Virtual machine cycles: 599240197\r\n",
       "\r\n",
       "</pre>"
      ],
      "text/plain": [
       "<IPython.core.display.HTML object>"
      ]
     },
     "metadata": {},
     "output_type": "display_data"
    },
    {
     "data": {
      "text/html": [
       "<pre style=\"color:red\">All registered observers are activated. Caused by completion observer (Latency3)\r\n",
       "</pre>"
      ],
      "text/plain": [
       "<IPython.core.display.HTML object>"
      ]
     },
     "metadata": {},
     "output_type": "display_data"
    },
    {
     "name": "stdout",
     "output_type": "stream",
     "text": [
      "Running experiment for load = 0.85\n"
     ]
    },
    {
     "data": {
      "text/html": [
       "<pre style=\"color:blue\">Real Time:             2.7 Steps:          655360 Simulated Time:         5.81742\r\n",
       "Real Time:           3.788 Steps:          917504 Simulated Time:          8.1696\r\n",
       "Real Time:           4.857 Steps:    1.17965e+006 Simulated Time:         10.4861\r\n",
       "Real Time:          13.503 Steps:     3.2768e+006 Simulated Time:         29.3119\r\n",
       "Real Time:          20.076 Steps:    4.84966e+006 Simulated Time:         43.3356\r\n",
       "Real Time:          28.258 Steps:    6.81574e+006 Simulated Time:          60.816\r\n",
       "\r\n",
       "\r\n",
       "Real time:       30.463\r\n",
       "Steps:           7282565\r\n",
       "Simulated time:  65\r\n",
       "\r\n",
       "Fix requests granted:           0\r\n",
       "Action transitions:             5456107\r\n",
       "Communication transitions:      1121387\r\n",
       "Communication requests tested:  0\r\n",
       "Delay transitions:              705071\r\n",
       "\r\n",
       "Delay requests granted:         1174583\r\n",
       "\r\n",
       "Garbage collection cleanup cycles: 0\r\n",
       "Number of reclaimed objects:       0\r\n",
       "\r\n",
       "Virtual machine cycles: 808164743\r\n",
       "\r\n",
       "</pre>"
      ],
      "text/plain": [
       "<IPython.core.display.HTML object>"
      ]
     },
     "metadata": {},
     "output_type": "display_data"
    },
    {
     "data": {
      "text/html": [
       "<pre style=\"color:red\">All registered observers are activated. Caused by completion observer (Latency3)\r\n",
       "</pre>"
      ],
      "text/plain": [
       "<IPython.core.display.HTML object>"
      ]
     },
     "metadata": {},
     "output_type": "display_data"
    },
    {
     "name": "stdout",
     "output_type": "stream",
     "text": [
      "Running experiment for load = 0.95\n"
     ]
    },
    {
     "data": {
      "text/html": [
       "<pre style=\"color:blue\">Real Time:           7.377 Steps:    1.83501e+006 Simulated Time:         15.2326\r\n",
       "Real Time:            7.92 Steps:    1.96608e+006 Simulated Time:         16.2828\r\n",
       "Real Time:           9.998 Steps:    2.49037e+006 Simulated Time:         20.5919\r\n",
       "Real Time:          18.782 Steps:    4.71859e+006 Simulated Time:          39.061\r\n",
       "\r\n",
       "\r\n",
       "Real time:       23.037\r\n",
       "Steps:           5692192\r\n",
       "Simulated time:  47\r\n",
       "\r\n",
       "Fix requests granted:           0\r\n",
       "Action transitions:             4277458\r\n",
       "Communication transitions:      879121\r\n",
       "Communication requests tested:  0\r\n",
       "Delay transitions:              535613\r\n",
       "\r\n",
       "Delay requests granted:         921304\r\n",
       "\r\n",
       "Garbage collection cleanup cycles: 0\r\n",
       "Number of reclaimed objects:       0\r\n",
       "\r\n",
       "Virtual machine cycles: 600880004\r\n",
       "\r\n",
       "</pre>"
      ],
      "text/plain": [
       "<IPython.core.display.HTML object>"
      ]
     },
     "metadata": {},
     "output_type": "display_data"
    },
    {
     "data": {
      "text/html": [
       "<pre style=\"color:red\">All registered observers are activated. Caused by completion observer (Latency2)\r\n",
       "</pre>"
      ],
      "text/plain": [
       "<IPython.core.display.HTML object>"
      ]
     },
     "metadata": {},
     "output_type": "display_data"
    },
    {
     "name": "stdout",
     "output_type": "stream",
     "text": [
      "Experiment finished\n"
     ]
    }
   ],
   "source": [
    "for load_value in load_values:\n",
    "\n",
    "    print(\"Running experiment for load = {0}\".format(load_value))\n",
    "\n",
    "    # determine where to place the output files (Sendrate and Latency.log); this is relative to the Jupyter script\n",
    "    output_directory = os.path.abspath(output_directory_template.format(load_value))\n",
    "\n",
    "    model_parameters = default_params\n",
    "    # set model parameters that are specific to this particular experiment run \n",
    "    # (combines default parameter settings if they exist)\n",
    "    model_parameters.update(\n",
    "        {\n",
    "            'Load': load_value\n",
    "        }\n",
    "    )\n",
    "\n",
    "    if run_network_model.run_network_model(\n",
    "            [model_path], # library paths\n",
    "            open('mesh_template.poosl').read(), # system instance template\n",
    "        nrNodes, model_parameters, output_directory) == False:\n",
    "        raise Exception(\"Model did not terminate to completion, check the output of Rotalumis!\")\n",
    "\n",
    "print(\"Experiment finished\")"
   ]
  },
  {
   "cell_type": "markdown",
   "metadata": {
    "nbpresent": {
     "id": "1d2fcb2b-98ae-4b5f-b3ed-553cbac57f90"
    }
   },
   "source": [
    "## Define log file interpretation\n",
    "All the simulations are finished, and their output is stored in separate directories.\n",
    "We can now use those log files to fill the data tables (pandas DataFrames) by extracting the Point estimation data from the log files and inserting it into the table.\n",
    "\n",
    "The function `readLog` defines how to read the Point estimation value from a `.log` file.\n",
    "\n",
    "The last entry (i.e. the piece of text before the first tab) in the log file that can be converted to a Float will be used as the Point estimation for this log."
   ]
  },
  {
   "cell_type": "code",
   "execution_count": 41,
   "metadata": {
    "nbpresent": {
     "id": "af7faba6-b6a1-454d-9bab-e24b784cb34e"
    }
   },
   "outputs": [],
   "source": [
    "def readLog(fname):\n",
    "    if not os.path.exists(fname):\n",
    "        raise Exception(\"Unable to read log: \\\"{0}\\\" does not exist!\".format(fname))\n",
    "        \n",
    "    with open(fname) as log_file:\n",
    "        for line in log_file:\n",
    "            parts = line.split('\\t')\n",
    "            try:\n",
    "                value = float(parts[0].strip())\n",
    "            except ValueError:\n",
    "                pass\n",
    "    return value"
   ]
  },
  {
   "cell_type": "markdown",
   "metadata": {
    "collapsed": true,
    "nbpresent": {
     "id": "aa084048-cf9f-47b3-9929-8ad6558a7f34"
    }
   },
   "source": [
    "## Setup data tables\n",
    "Here, we set up two tables (pandas DataFrame) in which we will store the results. Initially, the results are all unset, but we will read the relevant log files to find the Point estimations for the send rate and the latency for each node."
   ]
  },
  {
   "cell_type": "code",
   "execution_count": 42,
   "metadata": {
    "nbpresent": {
     "id": "ad8c953e-2970-454f-a631-02f05d19a1bc"
    }
   },
   "outputs": [],
   "source": [
    "# set up the environment\n",
    "import pandas"
   ]
  },
  {
   "cell_type": "code",
   "execution_count": 43,
   "metadata": {
    "collapsed": true,
    "nbpresent": {
     "id": "9e6c8cc2-7b3a-4a79-9946-7c52bf876e74"
    }
   },
   "outputs": [],
   "source": [
    "# prepare data structure\n",
    "sendrate_columns = {}\n",
    "latency_columns = {}\n",
    "for i in range(1, nrNodes + 1):\n",
    "    sendrate_columns[\"Sendrate\" + str(i)] = [float('NaN')] # data is not yet set\n",
    "    latency_columns[\"Latency\" + str(i)] = [float('NaN')] # data is not yet set\n",
    "\n",
    "sendrate_df = pandas.DataFrame(data=sendrate_columns, index=load_values)\n",
    "latency_df = pandas.DataFrame(data=latency_columns, index=load_values)"
   ]
  },
  {
   "cell_type": "code",
   "execution_count": 44,
   "metadata": {},
   "outputs": [
    {
     "data": {
      "text/html": [
       "<div>\n",
       "<table border=\"1\" class=\"dataframe\">\n",
       "  <thead>\n",
       "    <tr style=\"text-align: right;\">\n",
       "      <th></th>\n",
       "      <th>Latency1</th>\n",
       "      <th>Latency2</th>\n",
       "      <th>Latency3</th>\n",
       "      <th>Latency4</th>\n",
       "    </tr>\n",
       "  </thead>\n",
       "  <tbody>\n",
       "    <tr>\n",
       "      <th>0.05</th>\n",
       "      <td>NaN</td>\n",
       "      <td>NaN</td>\n",
       "      <td>NaN</td>\n",
       "      <td>NaN</td>\n",
       "    </tr>\n",
       "    <tr>\n",
       "      <th>0.15</th>\n",
       "      <td>NaN</td>\n",
       "      <td>NaN</td>\n",
       "      <td>NaN</td>\n",
       "      <td>NaN</td>\n",
       "    </tr>\n",
       "    <tr>\n",
       "      <th>0.25</th>\n",
       "      <td>NaN</td>\n",
       "      <td>NaN</td>\n",
       "      <td>NaN</td>\n",
       "      <td>NaN</td>\n",
       "    </tr>\n",
       "    <tr>\n",
       "      <th>0.35</th>\n",
       "      <td>NaN</td>\n",
       "      <td>NaN</td>\n",
       "      <td>NaN</td>\n",
       "      <td>NaN</td>\n",
       "    </tr>\n",
       "    <tr>\n",
       "      <th>0.45</th>\n",
       "      <td>NaN</td>\n",
       "      <td>NaN</td>\n",
       "      <td>NaN</td>\n",
       "      <td>NaN</td>\n",
       "    </tr>\n",
       "    <tr>\n",
       "      <th>0.55</th>\n",
       "      <td>NaN</td>\n",
       "      <td>NaN</td>\n",
       "      <td>NaN</td>\n",
       "      <td>NaN</td>\n",
       "    </tr>\n",
       "    <tr>\n",
       "      <th>0.65</th>\n",
       "      <td>NaN</td>\n",
       "      <td>NaN</td>\n",
       "      <td>NaN</td>\n",
       "      <td>NaN</td>\n",
       "    </tr>\n",
       "    <tr>\n",
       "      <th>0.75</th>\n",
       "      <td>NaN</td>\n",
       "      <td>NaN</td>\n",
       "      <td>NaN</td>\n",
       "      <td>NaN</td>\n",
       "    </tr>\n",
       "    <tr>\n",
       "      <th>0.85</th>\n",
       "      <td>NaN</td>\n",
       "      <td>NaN</td>\n",
       "      <td>NaN</td>\n",
       "      <td>NaN</td>\n",
       "    </tr>\n",
       "    <tr>\n",
       "      <th>0.95</th>\n",
       "      <td>NaN</td>\n",
       "      <td>NaN</td>\n",
       "      <td>NaN</td>\n",
       "      <td>NaN</td>\n",
       "    </tr>\n",
       "  </tbody>\n",
       "</table>\n",
       "</div>"
      ],
      "text/plain": [
       "      Latency1  Latency2  Latency3  Latency4\n",
       "0.05       NaN       NaN       NaN       NaN\n",
       "0.15       NaN       NaN       NaN       NaN\n",
       "0.25       NaN       NaN       NaN       NaN\n",
       "0.35       NaN       NaN       NaN       NaN\n",
       "0.45       NaN       NaN       NaN       NaN\n",
       "0.55       NaN       NaN       NaN       NaN\n",
       "0.65       NaN       NaN       NaN       NaN\n",
       "0.75       NaN       NaN       NaN       NaN\n",
       "0.85       NaN       NaN       NaN       NaN\n",
       "0.95       NaN       NaN       NaN       NaN"
      ]
     },
     "execution_count": 44,
     "metadata": {},
     "output_type": "execute_result"
    }
   ],
   "source": [
    "latency_df"
   ]
  },
  {
   "cell_type": "code",
   "execution_count": 45,
   "metadata": {},
   "outputs": [
    {
     "data": {
      "text/html": [
       "<div>\n",
       "<table border=\"1\" class=\"dataframe\">\n",
       "  <thead>\n",
       "    <tr style=\"text-align: right;\">\n",
       "      <th></th>\n",
       "      <th>Sendrate1</th>\n",
       "      <th>Sendrate2</th>\n",
       "      <th>Sendrate3</th>\n",
       "      <th>Sendrate4</th>\n",
       "    </tr>\n",
       "  </thead>\n",
       "  <tbody>\n",
       "    <tr>\n",
       "      <th>0.05</th>\n",
       "      <td>NaN</td>\n",
       "      <td>NaN</td>\n",
       "      <td>NaN</td>\n",
       "      <td>NaN</td>\n",
       "    </tr>\n",
       "    <tr>\n",
       "      <th>0.15</th>\n",
       "      <td>NaN</td>\n",
       "      <td>NaN</td>\n",
       "      <td>NaN</td>\n",
       "      <td>NaN</td>\n",
       "    </tr>\n",
       "    <tr>\n",
       "      <th>0.25</th>\n",
       "      <td>NaN</td>\n",
       "      <td>NaN</td>\n",
       "      <td>NaN</td>\n",
       "      <td>NaN</td>\n",
       "    </tr>\n",
       "    <tr>\n",
       "      <th>0.35</th>\n",
       "      <td>NaN</td>\n",
       "      <td>NaN</td>\n",
       "      <td>NaN</td>\n",
       "      <td>NaN</td>\n",
       "    </tr>\n",
       "    <tr>\n",
       "      <th>0.45</th>\n",
       "      <td>NaN</td>\n",
       "      <td>NaN</td>\n",
       "      <td>NaN</td>\n",
       "      <td>NaN</td>\n",
       "    </tr>\n",
       "    <tr>\n",
       "      <th>0.55</th>\n",
       "      <td>NaN</td>\n",
       "      <td>NaN</td>\n",
       "      <td>NaN</td>\n",
       "      <td>NaN</td>\n",
       "    </tr>\n",
       "    <tr>\n",
       "      <th>0.65</th>\n",
       "      <td>NaN</td>\n",
       "      <td>NaN</td>\n",
       "      <td>NaN</td>\n",
       "      <td>NaN</td>\n",
       "    </tr>\n",
       "    <tr>\n",
       "      <th>0.75</th>\n",
       "      <td>NaN</td>\n",
       "      <td>NaN</td>\n",
       "      <td>NaN</td>\n",
       "      <td>NaN</td>\n",
       "    </tr>\n",
       "    <tr>\n",
       "      <th>0.85</th>\n",
       "      <td>NaN</td>\n",
       "      <td>NaN</td>\n",
       "      <td>NaN</td>\n",
       "      <td>NaN</td>\n",
       "    </tr>\n",
       "    <tr>\n",
       "      <th>0.95</th>\n",
       "      <td>NaN</td>\n",
       "      <td>NaN</td>\n",
       "      <td>NaN</td>\n",
       "      <td>NaN</td>\n",
       "    </tr>\n",
       "  </tbody>\n",
       "</table>\n",
       "</div>"
      ],
      "text/plain": [
       "      Sendrate1  Sendrate2  Sendrate3  Sendrate4\n",
       "0.05        NaN        NaN        NaN        NaN\n",
       "0.15        NaN        NaN        NaN        NaN\n",
       "0.25        NaN        NaN        NaN        NaN\n",
       "0.35        NaN        NaN        NaN        NaN\n",
       "0.45        NaN        NaN        NaN        NaN\n",
       "0.55        NaN        NaN        NaN        NaN\n",
       "0.65        NaN        NaN        NaN        NaN\n",
       "0.75        NaN        NaN        NaN        NaN\n",
       "0.85        NaN        NaN        NaN        NaN\n",
       "0.95        NaN        NaN        NaN        NaN"
      ]
     },
     "execution_count": 45,
     "metadata": {},
     "output_type": "execute_result"
    }
   ],
   "source": [
    "sendrate_df"
   ]
  },
  {
   "cell_type": "code",
   "execution_count": 46,
   "metadata": {
    "collapsed": true,
    "nbpresent": {
     "id": "0e363aba-99be-4f51-a80c-85369e2e1f0c"
    }
   },
   "outputs": [],
   "source": [
    "for load_value in load_values:\n",
    "    output_directory = os.path.abspath(output_directory_template.format(load_value))\n",
    "    \n",
    "    # extract the data from the log files\n",
    "    for i in range(1, nrNodes + 1):\n",
    "        latency_log = \"Latency{0}\".format(i)\n",
    "        sendrate_log = \"Sendrate{0}\".format(i)\n",
    "        latency_df.loc[load_value].at[latency_log] = readLog(os.path.join(output_directory, latency_log) + \".log\")\n",
    "        sendrate_df.loc[load_value].at[sendrate_log] = readLog(os.path.join(output_directory, sendrate_log) + \".log\")"
   ]
  },
  {
   "cell_type": "markdown",
   "metadata": {
    "nbpresent": {
     "id": "8adf9bbe-0b91-4612-bb5a-96eb3124a4e4"
    }
   },
   "source": [
    "## Post-process and plot outcomes\n",
    "\n",
    "We can apply all kinds of interesting post-processing on the tables, and plot some of the results.\n",
    "\n",
    "The figures can be exported as png, pdf, ps, eps, svg, and pgf.\n"
   ]
  },
  {
   "cell_type": "code",
   "execution_count": 47,
   "metadata": {
    "nbpresent": {
     "id": "1e3a4238-3a7f-40b9-9c31-31af9a537b82"
    }
   },
   "outputs": [
    {
     "data": {
      "text/html": [
       "<div>\n",
       "<table border=\"1\" class=\"dataframe\">\n",
       "  <thead>\n",
       "    <tr style=\"text-align: right;\">\n",
       "      <th></th>\n",
       "      <th>Latency1</th>\n",
       "      <th>Latency2</th>\n",
       "      <th>Latency3</th>\n",
       "      <th>Latency4</th>\n",
       "      <th>average</th>\n",
       "    </tr>\n",
       "  </thead>\n",
       "  <tbody>\n",
       "    <tr>\n",
       "      <th>0.05</th>\n",
       "      <td>0.002006</td>\n",
       "      <td>0.002040</td>\n",
       "      <td>0.002010</td>\n",
       "      <td>0.002009</td>\n",
       "      <td>0.002016</td>\n",
       "    </tr>\n",
       "    <tr>\n",
       "      <th>0.15</th>\n",
       "      <td>0.002059</td>\n",
       "      <td>0.002066</td>\n",
       "      <td>0.002075</td>\n",
       "      <td>0.002061</td>\n",
       "      <td>0.002065</td>\n",
       "    </tr>\n",
       "    <tr>\n",
       "      <th>0.25</th>\n",
       "      <td>0.002087</td>\n",
       "      <td>0.002092</td>\n",
       "      <td>0.002118</td>\n",
       "      <td>0.002168</td>\n",
       "      <td>0.002116</td>\n",
       "    </tr>\n",
       "    <tr>\n",
       "      <th>0.35</th>\n",
       "      <td>0.002180</td>\n",
       "      <td>0.002186</td>\n",
       "      <td>0.002245</td>\n",
       "      <td>0.002436</td>\n",
       "      <td>0.002262</td>\n",
       "    </tr>\n",
       "    <tr>\n",
       "      <th>0.45</th>\n",
       "      <td>0.002238</td>\n",
       "      <td>0.002299</td>\n",
       "      <td>0.002322</td>\n",
       "      <td>0.002385</td>\n",
       "      <td>0.002311</td>\n",
       "    </tr>\n",
       "    <tr>\n",
       "      <th>0.55</th>\n",
       "      <td>0.002312</td>\n",
       "      <td>0.002394</td>\n",
       "      <td>0.002543</td>\n",
       "      <td>0.002877</td>\n",
       "      <td>0.002532</td>\n",
       "    </tr>\n",
       "    <tr>\n",
       "      <th>0.65</th>\n",
       "      <td>0.002444</td>\n",
       "      <td>0.002564</td>\n",
       "      <td>0.002690</td>\n",
       "      <td>0.003126</td>\n",
       "      <td>0.002706</td>\n",
       "    </tr>\n",
       "    <tr>\n",
       "      <th>0.75</th>\n",
       "      <td>0.002622</td>\n",
       "      <td>0.002869</td>\n",
       "      <td>0.003116</td>\n",
       "      <td>0.003755</td>\n",
       "      <td>0.003090</td>\n",
       "    </tr>\n",
       "    <tr>\n",
       "      <th>0.85</th>\n",
       "      <td>0.002889</td>\n",
       "      <td>0.003185</td>\n",
       "      <td>0.003542</td>\n",
       "      <td>0.004333</td>\n",
       "      <td>0.003487</td>\n",
       "    </tr>\n",
       "    <tr>\n",
       "      <th>0.95</th>\n",
       "      <td>0.003425</td>\n",
       "      <td>0.004141</td>\n",
       "      <td>0.004577</td>\n",
       "      <td>0.006190</td>\n",
       "      <td>0.004583</td>\n",
       "    </tr>\n",
       "  </tbody>\n",
       "</table>\n",
       "</div>"
      ],
      "text/plain": [
       "      Latency1  Latency2  Latency3  Latency4   average\n",
       "0.05  0.002006  0.002040  0.002010  0.002009  0.002016\n",
       "0.15  0.002059  0.002066  0.002075  0.002061  0.002065\n",
       "0.25  0.002087  0.002092  0.002118  0.002168  0.002116\n",
       "0.35  0.002180  0.002186  0.002245  0.002436  0.002262\n",
       "0.45  0.002238  0.002299  0.002322  0.002385  0.002311\n",
       "0.55  0.002312  0.002394  0.002543  0.002877  0.002532\n",
       "0.65  0.002444  0.002564  0.002690  0.003126  0.002706\n",
       "0.75  0.002622  0.002869  0.003116  0.003755  0.003090\n",
       "0.85  0.002889  0.003185  0.003542  0.004333  0.003487\n",
       "0.95  0.003425  0.004141  0.004577  0.006190  0.004583"
      ]
     },
     "execution_count": 47,
     "metadata": {},
     "output_type": "execute_result"
    }
   ],
   "source": [
    "# compute the row-average of the Latency columns, and add it to the table\n",
    "latency_df['average'] = latency_df.mean(axis=1) \n",
    "latency_df"
   ]
  },
  {
   "cell_type": "code",
   "execution_count": 48,
   "metadata": {
    "nbpresent": {
     "id": "319e31e2-d593-457e-a73b-db20a7d66fd8"
    },
    "scrolled": true
   },
   "outputs": [
    {
     "data": {
      "text/html": [
       "<div>\n",
       "<table border=\"1\" class=\"dataframe\">\n",
       "  <thead>\n",
       "    <tr style=\"text-align: right;\">\n",
       "      <th></th>\n",
       "      <th>Sendrate1</th>\n",
       "      <th>Sendrate2</th>\n",
       "      <th>Sendrate3</th>\n",
       "      <th>Sendrate4</th>\n",
       "      <th>average</th>\n",
       "    </tr>\n",
       "  </thead>\n",
       "  <tbody>\n",
       "    <tr>\n",
       "      <th>0.05</th>\n",
       "      <td>28.688723</td>\n",
       "      <td>29.633903</td>\n",
       "      <td>30.566221</td>\n",
       "      <td>28.753044</td>\n",
       "      <td>29.410473</td>\n",
       "    </tr>\n",
       "    <tr>\n",
       "      <th>0.15</th>\n",
       "      <td>91.364504</td>\n",
       "      <td>92.154592</td>\n",
       "      <td>91.892261</td>\n",
       "      <td>87.505166</td>\n",
       "      <td>90.729131</td>\n",
       "    </tr>\n",
       "    <tr>\n",
       "      <th>0.25</th>\n",
       "      <td>149.544785</td>\n",
       "      <td>145.741816</td>\n",
       "      <td>151.109408</td>\n",
       "      <td>151.927862</td>\n",
       "      <td>149.580968</td>\n",
       "    </tr>\n",
       "    <tr>\n",
       "      <th>0.35</th>\n",
       "      <td>214.599261</td>\n",
       "      <td>207.220289</td>\n",
       "      <td>203.395971</td>\n",
       "      <td>215.557473</td>\n",
       "      <td>210.193249</td>\n",
       "    </tr>\n",
       "    <tr>\n",
       "      <th>0.45</th>\n",
       "      <td>272.946539</td>\n",
       "      <td>257.583249</td>\n",
       "      <td>266.621287</td>\n",
       "      <td>270.354808</td>\n",
       "      <td>266.876471</td>\n",
       "    </tr>\n",
       "    <tr>\n",
       "      <th>0.55</th>\n",
       "      <td>329.118550</td>\n",
       "      <td>332.908819</td>\n",
       "      <td>322.380815</td>\n",
       "      <td>324.779531</td>\n",
       "      <td>327.296929</td>\n",
       "    </tr>\n",
       "    <tr>\n",
       "      <th>0.65</th>\n",
       "      <td>392.111769</td>\n",
       "      <td>379.530050</td>\n",
       "      <td>391.382351</td>\n",
       "      <td>384.488178</td>\n",
       "      <td>386.878087</td>\n",
       "    </tr>\n",
       "    <tr>\n",
       "      <th>0.75</th>\n",
       "      <td>445.160079</td>\n",
       "      <td>436.440544</td>\n",
       "      <td>447.567019</td>\n",
       "      <td>450.888334</td>\n",
       "      <td>445.013994</td>\n",
       "    </tr>\n",
       "    <tr>\n",
       "      <th>0.85</th>\n",
       "      <td>497.852683</td>\n",
       "      <td>490.989608</td>\n",
       "      <td>507.221669</td>\n",
       "      <td>498.559793</td>\n",
       "      <td>498.655938</td>\n",
       "    </tr>\n",
       "    <tr>\n",
       "      <th>0.95</th>\n",
       "      <td>533.492892</td>\n",
       "      <td>518.474148</td>\n",
       "      <td>560.876713</td>\n",
       "      <td>545.300402</td>\n",
       "      <td>539.536039</td>\n",
       "    </tr>\n",
       "  </tbody>\n",
       "</table>\n",
       "</div>"
      ],
      "text/plain": [
       "       Sendrate1   Sendrate2   Sendrate3   Sendrate4     average\n",
       "0.05   28.688723   29.633903   30.566221   28.753044   29.410473\n",
       "0.15   91.364504   92.154592   91.892261   87.505166   90.729131\n",
       "0.25  149.544785  145.741816  151.109408  151.927862  149.580968\n",
       "0.35  214.599261  207.220289  203.395971  215.557473  210.193249\n",
       "0.45  272.946539  257.583249  266.621287  270.354808  266.876471\n",
       "0.55  329.118550  332.908819  322.380815  324.779531  327.296929\n",
       "0.65  392.111769  379.530050  391.382351  384.488178  386.878087\n",
       "0.75  445.160079  436.440544  447.567019  450.888334  445.013994\n",
       "0.85  497.852683  490.989608  507.221669  498.559793  498.655938\n",
       "0.95  533.492892  518.474148  560.876713  545.300402  539.536039"
      ]
     },
     "execution_count": 48,
     "metadata": {},
     "output_type": "execute_result"
    }
   ],
   "source": [
    "# compute the row-average of the Send rate columns, and add it to the dataframe\n",
    "sendrate_df['average'] = sendrate_df.mean(axis=1) \n",
    "sendrate_df"
   ]
  },
  {
   "cell_type": "code",
   "execution_count": 49,
   "metadata": {
    "collapsed": true,
    "nbpresent": {
     "id": "316ce978-dfd7-43c8-8362-4e52148f217e"
    }
   },
   "outputs": [],
   "source": [
    "import matplotlib.pyplot as plt\n",
    "import matplotlib\n",
    "matplotlib.style.use('ggplot') # select the ggplot style\n",
    "from matplotlib.backends.backend_pdf import PdfPages"
   ]
  },
  {
   "cell_type": "code",
   "execution_count": 50,
   "metadata": {
    "nbpresent": {
     "id": "8451d16e-72f3-4fce-aad0-aa446b0706a8"
    }
   },
   "outputs": [],
   "source": [
    "pdf = PdfPages('graphs.pdf') # Open a file to write different graphs to; don't forget to close the PDF later!"
   ]
  },
  {
   "cell_type": "code",
   "execution_count": 51,
   "metadata": {
    "nbpresent": {
     "id": "a10b1ba2-15e5-49c3-a250-4d3eceb3d0e8"
    }
   },
   "outputs": [],
   "source": [
    "# convenience function to create line plots in a single line, with some convenient default values\n",
    "def line_plot(df, title, xlabel, ylabel, pdf=None):\n",
    "    fig = df.plot.line(title=title, marker='s', figsize=(10,7))\n",
    "    # use the line below instead on older versions if the margins are off\n",
    "    # fig = df.plot.line(title=title, x=df.index, marker='s', figsize=(10,7)) \n",
    "    plt.xlabel(xlabel)\n",
    "    plt.ylabel(ylabel)\n",
    "    if pdf != None:\n",
    "        pdf.savefig()\n",
    "    return fig\n",
    "\n",
    "# convenience function to create bar plots in a single line, with some convenient default values    \n",
    "def bar_plot(df, title, xlabel, ylabel, pdf=None):\n",
    "    fig = df.plot.bar(title=title, figsize=(10,7))\n",
    "    # use the line below instead on older versions if the margins are off\n",
    "    # fig = df.plot.line(title=title, x=df.index, figsize=(10,7)) \n",
    "    plt.xlabel(xlabel)\n",
    "    plt.ylabel(ylabel)\n",
    "    if pdf != None:\n",
    "        pdf.savefig(fig)\n",
    "    return fig"
   ]
  },
  {
   "cell_type": "code",
   "execution_count": 52,
   "metadata": {
    "nbpresent": {
     "id": "0d6c536a-c387-4d7a-93b4-f6012e04f654"
    }
   },
   "outputs": [
    {
     "data": {
      "image/png": "[encoded data removed]",
      "text/plain": [
       "<matplotlib.figure.Figure at 0xe736e0b4e0>"
      ]
     },
     "metadata": {},
     "output_type": "display_data"
    },
    {
     "data": {
      "image/png": "[encoded data removed]",
      "text/plain": [
       "<matplotlib.figure.Figure at 0xe736ea26a0>"
      ]
     },
     "metadata": {},
     "output_type": "display_data"
    }
   ],
   "source": [
    "# plot line graphs for each buffer experiment with different load values\n",
    "line_plot(sendrate_df, \"Send rate with varying link load\".format(load_value), 'Link load', 'Send rate [flits/time unit]', pdf)\n",
    "plt.show()\n",
    "line_plot(latency_df, \"Latency with varying link load\".format(load_value), 'Link load', 'Latency [time unit]', pdf)\n",
    "plt.show()"
   ]
  },
  {
   "cell_type": "markdown",
   "metadata": {
    "nbpresent": {
     "id": "52b06710-dd7d-4807-815d-742100f95619"
    }
   },
   "source": [
    "# Plot a subset of the results\n",
    "You can easily filter out some of the columns, like shown below"
   ]
  },
  {
   "cell_type": "code",
   "execution_count": 53,
   "metadata": {
    "nbpresent": {
     "id": "872b5494-e937-4950-972f-4955e1004aa3"
    }
   },
   "outputs": [
    {
     "data": {
      "image/png": "[encoded data removed]",
      "text/plain": [
       "<matplotlib.figure.Figure at 0xe73665d128>"
      ]
     },
     "metadata": {},
     "output_type": "display_data"
    }
   ],
   "source": [
    "# extract only the rows for which the index correspondes to the first buffer value\n",
    "latency12_df = latency_df[['Latency1', 'Latency2']] # select only the Latency1 and Latency2 columns\n",
    "line_plot(latency12_df, \"Link load for Node 1 and 2\", 'Link load', 'Latency [time units]', pdf)\n",
    "plt.show()"
   ]
  },
  {
   "cell_type": "markdown",
   "metadata": {
    "collapsed": true,
    "nbpresent": {
     "id": "79653d6f-efd1-49e2-8277-964809184ce9"
    }
   },
   "source": [
    "## Save results for future reference"
   ]
  },
  {
   "cell_type": "code",
   "execution_count": 54,
   "metadata": {
    "nbpresent": {
     "id": "fdc38dd9-7de8-484b-8d33-047c811f3fe1"
    }
   },
   "outputs": [],
   "source": [
    "latency_df.to_csv('Latency.txt') # load back into dataframe by using: df = pandas.from_csv('Latency.txt')\n",
    "sendrate_df.to_csv('Sendrate.txt')\n",
    "\n",
    "if pdf != None:\n",
    "    pdf.close()\n",
    "pdf = None # remove the reference to the multipage PDF"
   ]
  },
  {
   "cell_type": "code",
   "execution_count": null,
   "metadata": {
    "collapsed": true
   },
   "outputs": [],
   "source": []
  }
 ],
 "metadata": {
  "anaconda-cloud": {},
  "kernelspec": {
   "display_name": "Python 3",
   "language": "python",
   "name": "python3"
  },
  "language_info": {
   "codemirror_mode": {
    "name": "ipython",
    "version": 3
   },
   "file_extension": ".py",
   "mimetype": "text/x-python",
   "name": "python",
   "nbconvert_exporter": "python",
   "pygments_lexer": "ipython3",
   "version": "3.7.1"
  },
  "nbpresent": {
   "slides": {},
   "themes": {}
  }
 },
 "nbformat": 4,
 "nbformat_minor": 1
}
