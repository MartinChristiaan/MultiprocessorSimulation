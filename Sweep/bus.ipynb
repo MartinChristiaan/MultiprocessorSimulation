{
 "cells": [
  {
   "cell_type": "markdown",
   "metadata": {
    "nbpresent": {
     "id": "79dabc7c-da9d-43b5-8239-1ae5ad546526"
    }
   },
   "source": [
    "# Send rate and latency versus Link Load parameter\n",
    "\n",
    "This example experiment shows how to:\n",
    "\n",
    "* how to run POOSL models with replaced system parameters\n",
    "* collect the send rate and latency data from the POOSL simulations\n",
    "* plot the trend of send rate and latency versus Link Load"
   ]
  },
  {
   "cell_type": "code",
   "execution_count": 19,
   "metadata": {
    "nbpresent": {
     "id": "282b7c2e-b6d8-4b37-a54f-482da2e8bf6a"
    }
   },
   "outputs": [],
   "source": [
    "# import the convenience utility to run parameterized POOSL models\n",
    "import run_network_model"
   ]
  },
  {
   "cell_type": "markdown",
   "metadata": {
    "nbpresent": {
     "id": "67ad3d56-fe23-4e28-8e30-2bedb37afcf9"
    }
   },
   "source": [
    "# Set up experiment\n",
    "The experiment needs to know certain parameters: such as the number of nodes, what values it should use for the default model parameters, as well as the experiment values (in this case the link load)."
   ]
  },
  {
   "cell_type": "code",
   "execution_count": 20,
   "metadata": {
    "nbpresent": {
     "id": "ad8c953e-2970-454f-a631-02f05d19a1bc"
    }
   },
   "outputs": [],
   "source": [
    "# set up the environment\n",
    "import os, numpy"
   ]
  },
  {
   "cell_type": "code",
   "execution_count": 21,
   "metadata": {
    "nbpresent": {
     "id": "b9de78e3-f170-4c01-9fb9-6bcdfe3a06f6"
    }
   },
   "outputs": [],
   "source": [
    "nrNodes = 4\n",
    "# initialize template parameters\n",
    "default_params = {'Load' : 0.95, \n",
    "                  'NIBufferCapacity' : 2,\n",
    "                  'SoC_type' : 'Bus_4_nodes',\n",
    "                  'NumberOfNodes' : nrNodes\n",
    "                 }\n",
    "\n",
    "output_directory_template = 'Bus4/load_{0}'\n",
    "\n",
    "# put the absolute path to your model here; do not forget to change \\ to / in the path on Windows\n",
    "model_path = 'C:/path/to/model/'\n",
    "\n",
    "# define the ranges for the experiments\n",
    "load_values = numpy.linspace(0.05, 0.95, 10) # 10 evenly spaced values between 0.05 and 0.95\n",
    "## note that the output from linspace may show 0.50, but instead the real value is 0.4999994\n",
    "## Therefore the literal 0.50 cannot be used to look up the data! Use load_values[2] or similar \n",
    "## to look up the values instead."
   ]
  },
  {
   "cell_type": "markdown",
   "metadata": {
    "nbpresent": {
     "id": "03b1edfa-21a6-4aef-ac71-6e3e628fecf7"
    }
   },
   "source": [
    "## Run the parameterized models\n",
    "Now we execute one model for every `Load` value in our experiment. The `load_value` variable ranges from 0.05 to 0.95 in 4 steps. \n",
    "\n",
    "The log files are stored in separate output directories, as the output directory depends on the load parameter. "
   ]
  },
  {
   "cell_type": "code",
   "execution_count": 22,
   "metadata": {
    "nbpresent": {
     "id": "c1607331-4e4f-4f7e-a295-eb95a42963eb"
    },
    "scrolled": false
   },
   "outputs": [
    {
     "name": "stdout",
     "output_type": "stream",
     "text": [
      "Running experiment for load = 0.05\n"
     ]
    },
    {
     "data": {
      "text/html": [
       "<pre style=\"color:red\">Deserialization failed. Error:\r\n",
       "Include directory does not exist: 'C:/path/to/model/'\r\n",
       "</pre>"
      ],
      "text/plain": [
       "<IPython.core.display.HTML object>"
      ]
     },
     "metadata": {},
     "output_type": "display_data"
    },
    {
     "ename": "Exception",
     "evalue": "Model did not terminate to completion, check the output of Rotalumis!",
     "output_type": "error",
     "traceback": [
      "\u001b[1;31m---------------------------------------------------------------------------\u001b[0m",
      "\u001b[1;31mException\u001b[0m                                 Traceback (most recent call last)",
      "\u001b[1;32m<ipython-input-22-23c74eabe95b>\u001b[0m in \u001b[0;36m<module>\u001b[1;34m\u001b[0m\n\u001b[0;32m     19\u001b[0m             \u001b[0mopen\u001b[0m\u001b[1;33m(\u001b[0m\u001b[1;34m'bus_template.poosl'\u001b[0m\u001b[1;33m)\u001b[0m\u001b[1;33m.\u001b[0m\u001b[0mread\u001b[0m\u001b[1;33m(\u001b[0m\u001b[1;33m)\u001b[0m\u001b[1;33m,\u001b[0m \u001b[1;31m# system instance template\u001b[0m\u001b[1;33m\u001b[0m\u001b[1;33m\u001b[0m\u001b[0m\n\u001b[0;32m     20\u001b[0m         nrNodes, model_parameters, output_directory) == False:\n\u001b[1;32m---> 21\u001b[1;33m         \u001b[1;32mraise\u001b[0m \u001b[0mException\u001b[0m\u001b[1;33m(\u001b[0m\u001b[1;34m\"Model did not terminate to completion, check the output of Rotalumis!\"\u001b[0m\u001b[1;33m)\u001b[0m\u001b[1;33m\u001b[0m\u001b[1;33m\u001b[0m\u001b[0m\n\u001b[0m\u001b[0;32m     22\u001b[0m \u001b[1;33m\u001b[0m\u001b[0m\n\u001b[0;32m     23\u001b[0m \u001b[0mprint\u001b[0m\u001b[1;33m(\u001b[0m\u001b[1;34m\"Experiment finished\"\u001b[0m\u001b[1;33m)\u001b[0m\u001b[1;33m\u001b[0m\u001b[1;33m\u001b[0m\u001b[0m\n",
      "\u001b[1;31mException\u001b[0m: Model did not terminate to completion, check the output of Rotalumis!"
     ]
    }
   ],
   "source": [
    "for load_value in load_values:\n",
    "\n",
    "    print(\"Running experiment for load = {0}\".format(load_value))\n",
    "\n",
    "    # determine where to place the output files (Sendrate and Latency.log); this is relative to the Jupyter script\n",
    "    output_directory = os.path.abspath(output_directory_template.format(load_value))\n",
    "\n",
    "    model_parameters = default_params\n",
    "    # set model parameters that are specific to this particular experiment run \n",
    "    # (combines default parameter settings if they exist)\n",
    "    model_parameters.update(\n",
    "        {\n",
    "            'Load': load_value\n",
    "        }\n",
    "    )\n",
    "\n",
    "    if run_network_model.run_network_model(\n",
    "            [model_path], # library paths\n",
    "            open('bus_template.poosl').read(), # system instance template\n",
    "        nrNodes, model_parameters, output_directory) == False:\n",
    "        raise Exception(\"Model did not terminate to completion, check the output of Rotalumis!\")\n",
    "\n",
    "print(\"Experiment finished\")"
   ]
  },
  {
   "cell_type": "markdown",
   "metadata": {
    "nbpresent": {
     "id": "1d2fcb2b-98ae-4b5f-b3ed-553cbac57f90"
    }
   },
   "source": [
    "## Define log file interpretation\n",
    "All the simulations are finished, and their output is stored in separate directories.\n",
    "We can now use those log files to fill the data tables (pandas DataFrames) by extracting the Point estimation data from the log files and inserting it into the table.\n",
    "\n",
    "The function `readLog` defines how to read the Point estimation value from a `.log` file.\n",
    "\n",
    "The last entry (i.e. the piece of text before the first tab) in the log file that can be converted to a Float will be used as the Point estimation for this log."
   ]
  },
  {
   "cell_type": "code",
   "execution_count": null,
   "metadata": {
    "nbpresent": {
     "id": "af7faba6-b6a1-454d-9bab-e24b784cb34e"
    }
   },
   "outputs": [],
   "source": [
    "def readLog(fname):\n",
    "    if not os.path.exists(fname):\n",
    "        raise Exception(\"Unable to read log: \\\"{0}\\\" does not exist!\".format(fname))\n",
    "        \n",
    "    with open(fname) as log_file:\n",
    "        for line in log_file:\n",
    "            parts = line.split('\\t')\n",
    "            try:\n",
    "                value = float(parts[0].strip())\n",
    "            except ValueError:\n",
    "                pass\n",
    "    return value"
   ]
  },
  {
   "cell_type": "markdown",
   "metadata": {
    "collapsed": true,
    "nbpresent": {
     "id": "aa084048-cf9f-47b3-9929-8ad6558a7f34"
    }
   },
   "source": [
    "## Setup data tables\n",
    "Here, we set up two tables (pandas DataFrame) in which we will store the results. Initially, the results are all unset, but we will read the relevant log files to find the Point estimations for the send rate and the latency for each node."
   ]
  },
  {
   "cell_type": "code",
   "execution_count": null,
   "metadata": {
    "nbpresent": {
     "id": "ad8c953e-2970-454f-a631-02f05d19a1bc"
    }
   },
   "outputs": [],
   "source": [
    "# set up the environment\n",
    "import pandas"
   ]
  },
  {
   "cell_type": "code",
   "execution_count": null,
   "metadata": {
    "nbpresent": {
     "id": "9e6c8cc2-7b3a-4a79-9946-7c52bf876e74"
    }
   },
   "outputs": [],
   "source": [
    "# prepare data structure\n",
    "sendrate_columns = {}\n",
    "latency_columns = {}\n",
    "for i in range(1, nrNodes + 1):\n",
    "    sendrate_columns[\"Sendrate\" + str(i)] = [float('NaN')] # data is not yet set\n",
    "    latency_columns[\"Latency\" + str(i)] = [float('NaN')] # data is not yet set\n",
    "\n",
    "sendrate_df = pandas.DataFrame(data=sendrate_columns, index=load_values)\n",
    "latency_df = pandas.DataFrame(data=latency_columns, index=load_values)"
   ]
  },
  {
   "cell_type": "code",
   "execution_count": null,
   "metadata": {},
   "outputs": [],
   "source": [
    "latency_df"
   ]
  },
  {
   "cell_type": "code",
   "execution_count": null,
   "metadata": {},
   "outputs": [],
   "source": [
    "sendrate_df"
   ]
  },
  {
   "cell_type": "code",
   "execution_count": null,
   "metadata": {
    "nbpresent": {
     "id": "0e363aba-99be-4f51-a80c-85369e2e1f0c"
    }
   },
   "outputs": [],
   "source": [
    "for load_value in load_values:\n",
    "    output_directory = os.path.abspath(output_directory_template.format(load_value))\n",
    "    \n",
    "    # extract the data from the log files\n",
    "    for i in range(1, nrNodes + 1):\n",
    "        latency_log = \"Latency{0}\".format(i)\n",
    "        sendrate_log = \"Sendrate{0}\".format(i)\n",
    "        latency_df.loc[load_value].at[latency_log] = readLog(os.path.join(output_directory, latency_log) + \".log\")\n",
    "        sendrate_df.loc[load_value].at[sendrate_log] = readLog(os.path.join(output_directory, sendrate_log) + \".log\")"
   ]
  },
  {
   "cell_type": "markdown",
   "metadata": {
    "nbpresent": {
     "id": "8adf9bbe-0b91-4612-bb5a-96eb3124a4e4"
    }
   },
   "source": [
    "## Post-process and plot outcomes\n",
    "\n",
    "We can apply all kinds of interesting post-processing on the tables, and plot some of the results.\n",
    "\n",
    "The figures can be exported as png, pdf, ps, eps, svg, and pgf.\n"
   ]
  },
  {
   "cell_type": "code",
   "execution_count": null,
   "metadata": {
    "nbpresent": {
     "id": "1e3a4238-3a7f-40b9-9c31-31af9a537b82"
    }
   },
   "outputs": [],
   "source": [
    "# compute the row-average of the Latency columns, and add it to the table\n",
    "latency_df['average'] = latency_df.mean(axis=1) \n",
    "latency_df"
   ]
  },
  {
   "cell_type": "code",
   "execution_count": null,
   "metadata": {
    "nbpresent": {
     "id": "319e31e2-d593-457e-a73b-db20a7d66fd8"
    },
    "scrolled": true
   },
   "outputs": [],
   "source": [
    "# compute the row-average of the Send rate columns, and add it to the dataframe\n",
    "sendrate_df['average'] = sendrate_df.mean(axis=1) \n",
    "sendrate_df"
   ]
  },
  {
   "cell_type": "code",
   "execution_count": null,
   "metadata": {
    "nbpresent": {
     "id": "316ce978-dfd7-43c8-8362-4e52148f217e"
    }
   },
   "outputs": [],
   "source": [
    "import matplotlib.pyplot as plt\n",
    "import matplotlib\n",
    "matplotlib.style.use('ggplot') # select the ggplot style\n",
    "from matplotlib.backends.backend_pdf import PdfPages"
   ]
  },
  {
   "cell_type": "code",
   "execution_count": null,
   "metadata": {
    "nbpresent": {
     "id": "8451d16e-72f3-4fce-aad0-aa446b0706a8"
    }
   },
   "outputs": [],
   "source": [
    "pdf = PdfPages('graphs.pdf') # Open a file to write different graphs to; don't forget to close the PDF later!"
   ]
  },
  {
   "cell_type": "code",
   "execution_count": null,
   "metadata": {
    "nbpresent": {
     "id": "a10b1ba2-15e5-49c3-a250-4d3eceb3d0e8"
    }
   },
   "outputs": [],
   "source": [
    "# convenience function to create line plots in a single line, with some convenient default values\n",
    "def line_plot(df, title, xlabel, ylabel, pdf=None):\n",
    "    fig = df.plot.line(title=title, marker='s', figsize=(10,7))\n",
    "    # use the line below instead on older versions if the margins are off\n",
    "    # fig = df.plot.line(title=title, x=df.index, marker='s', figsize=(10,7)) \n",
    "    plt.xlabel(xlabel)\n",
    "    plt.ylabel(ylabel)\n",
    "    if pdf != None:\n",
    "        pdf.savefig()\n",
    "    return fig\n",
    "\n",
    "# convenience function to create bar plots in a single line, with some convenient default values    \n",
    "def bar_plot(df, title, xlabel, ylabel, pdf=None):\n",
    "    fig = df.plot.bar(title=title, figsize=(10,7))\n",
    "    # use the line below instead on older versions if the margins are off\n",
    "    # fig = df.plot.line(title=title, x=df.index, figsize=(10,7)) \n",
    "    plt.xlabel(xlabel)\n",
    "    plt.ylabel(ylabel)\n",
    "    if pdf != None:\n",
    "        pdf.savefig(fig)\n",
    "    return fig"
   ]
  },
  {
   "cell_type": "code",
   "execution_count": null,
   "metadata": {
    "nbpresent": {
     "id": "0d6c536a-c387-4d7a-93b4-f6012e04f654"
    }
   },
   "outputs": [],
   "source": [
    "# plot line graphs for each buffer experiment with different load values\n",
    "line_plot(sendrate_df, \"Send rate with varying link load\".format(load_value), 'Link load', 'Send rate [flits/time unit]', pdf)\n",
    "plt.show()\n",
    "line_plot(latency_df, \"Latency with varying link load\".format(load_value), 'Link load', 'Latency [time unit]', pdf)\n",
    "plt.show()"
   ]
  },
  {
   "cell_type": "markdown",
   "metadata": {
    "nbpresent": {
     "id": "52b06710-dd7d-4807-815d-742100f95619"
    }
   },
   "source": [
    "# Plot a subset of the results\n",
    "You can easily filter out some of the columns, like shown below"
   ]
  },
  {
   "cell_type": "code",
   "execution_count": null,
   "metadata": {
    "nbpresent": {
     "id": "872b5494-e937-4950-972f-4955e1004aa3"
    }
   },
   "outputs": [],
   "source": [
    "# extract only the rows for which the index correspondes to the first buffer value\n",
    "latency12_df = latency_df[['Latency1', 'Latency2']] # select only the Latency1 and Latency2 columns\n",
    "line_plot(latency12_df, \"Link load for Node 1 and 2\", 'Link load', 'Latency [time units]', pdf)\n",
    "plt.show()"
   ]
  },
  {
   "cell_type": "markdown",
   "metadata": {
    "collapsed": true,
    "nbpresent": {
     "id": "79653d6f-efd1-49e2-8277-964809184ce9"
    }
   },
   "source": [
    "## Save results for future reference"
   ]
  },
  {
   "cell_type": "code",
   "execution_count": null,
   "metadata": {
    "nbpresent": {
     "id": "fdc38dd9-7de8-484b-8d33-047c811f3fe1"
    }
   },
   "outputs": [],
   "source": [
    "latency_df.to_csv('Latency.txt') # load back into dataframe by using: df = pandas.from_csv('Latency.txt')\n",
    "sendrate_df.to_csv('Sendrate.txt')\n",
    "\n",
    "if pdf != None:\n",
    "    pdf.close()\n",
    "pdf = None # remove the reference to the multipage PDF"
   ]
  }
 ],
 "metadata": {
  "anaconda-cloud": {},
  "kernelspec": {
   "display_name": "Python 3",
   "language": "python",
   "name": "python3"
  },
  "language_info": {
   "codemirror_mode": {
    "name": "ipython",
    "version": 3
   },
   "file_extension": ".py",
   "mimetype": "text/x-python",
   "name": "python",
   "nbconvert_exporter": "python",
   "pygments_lexer": "ipython3",
   "version": "3.6.5"
  },
  "nbpresent": {
   "slides": {},
   "themes": {}
  }
 },
 "nbformat": 4,
 "nbformat_minor": 1
}
