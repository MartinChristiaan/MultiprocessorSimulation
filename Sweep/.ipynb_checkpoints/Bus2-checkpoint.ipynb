{
 "cells": [
  {
   "cell_type": "code",
   "execution_count": null,
   "metadata": {},
   "outputs": [
    {
     "name": "stdout",
     "output_type": "stream",
     "text": [
      "Now simulating :  NumberOfNodes : 8.0 Load Value : 0.15 NIBufferCapacity : 2.0\n",
      "items left : 6 ,time last sim :  0.00 ms ,est time rem : 0 sec\n"
     ]
    },
    {
     "data": {
      "text/html": [
       "<pre style=\"color:blue\">Real Time:           4.015 Steps:    1.04858e+006 Simulated Time:         54.7592\r\n",
       "Real Time:           4.996 Steps:    1.31072e+006 Simulated Time:         67.9656\r\n",
       "Real Time:           9.523 Steps:    2.49037e+006 Simulated Time:         131.012\r\n",
       "Real Time:           12.01 Steps:    3.14573e+006 Simulated Time:          163.54\r\n",
       "Real Time:          12.502 Steps:     3.2768e+006 Simulated Time:           170.8\r\n",
       "Real Time:              13 Steps:    3.40787e+006 Simulated Time:         177.811\r\n",
       "Real Time:          13.496 Steps:    3.53894e+006 Simulated Time:         184.362\r\n",
       "Real Time:          14.988 Steps:    3.93216e+006 Simulated Time:         204.352\r\n",
       "Real Time:          20.043 Steps:    5.24288e+006 Simulated Time:         274.654\r\n",
       "Real Time:          22.097 Steps:    5.76717e+006 Simulated Time:         302.839\r\n",
       "Real Time:          30.259 Steps:    7.73325e+006 Simulated Time:         406.937\r\n",
       "\r\n",
       "\r\n",
       "Real time:       33.618\r\n",
       "Steps:           8352064\r\n",
       "Simulated time:  440\r\n",
       "\r\n",
       "Fix requests granted:           0\r\n",
       "Action transitions:             5465093\r\n",
       "Communication transitions:      1906974\r\n",
       "Communication requests tested:  0\r\n",
       "Delay transitions:              979997\r\n",
       "\r\n",
       "Delay requests granted:         982753\r\n",
       "\r\n",
       "Garbage collection cleanup cycles: 0\r\n",
       "Number of reclaimed objects:       0\r\n",
       "\r\n",
       "Virtual machine cycles: 889157054\r\n",
       "\r\n",
       "</pre>"
      ],
      "text/plain": [
       "<IPython.core.display.HTML object>"
      ]
     },
     "metadata": {},
     "output_type": "display_data"
    },
    {
     "data": {
      "text/html": [
       "<pre style=\"color:red\">All registered observers are activated. Caused by completion observer (Latency5)\r\n",
       "</pre>"
      ],
      "text/plain": [
       "<IPython.core.display.HTML object>"
      ]
     },
     "metadata": {},
     "output_type": "display_data"
    },
    {
     "name": "stdout",
     "output_type": "stream",
     "text": [
      "Now simulating :  NumberOfNodes : 8.0 Load Value : 0.15 NIBufferCapacity : 3.0\n",
      "items left : 5 ,time last sim :  33895.19 ms ,est time rem : 169.47595596313477 sec\n"
     ]
    }
   ],
   "source": [
    "\n",
    "import run_network_model\n",
    "import os\n",
    "import numpy as np\n",
    "import pandas as pd\n",
    "from autosim import autosim,get_all_combinations\n",
    "import copypastahero\n",
    "from math import sqrt\n",
    "def readLog(fname):\n",
    "    if not os.path.exists(fname):\n",
    "        raise Exception(\"Unable to read log: \\\"{0}\\\" does not exist!\".format(fname))\n",
    "        \n",
    "    with open(fname) as log_file:\n",
    "        value = np.nan\n",
    "        for line in log_file:\n",
    "            parts = line.split('\\t')\n",
    "            try:\n",
    "                value = float(parts[0].strip())\n",
    "            except ValueError:\n",
    "                pass\n",
    "        return value\n",
    "\n",
    "\n",
    "def parse_results(nrNodes,output_directory):\n",
    "    \n",
    "    latency_names = [\"Latency Average\",\"Latency Min\",\"Latency Max\"]\n",
    "    sendrate_names = [\"Sendrate Average\",\"Sendrate Min\",\"Sendrate Max\"]\n",
    "    latency = []\n",
    "    sendrate = []\n",
    "    for i in range(1, nrNodes + 1):\n",
    "        latency += [readLog(os.path.join(output_directory, \"latency\"+str(i)) + \".log\")]\n",
    "        sendrate += [readLog(os.path.join(output_directory, \"sendrate\"+str(i)) + \".log\")]\n",
    "    \n",
    "    \n",
    "    \n",
    "    return latency_names+sendrate_names,[np.mean(latency),np.min(latency),np.max(latency),np.mean(sendrate),np.min(sendrate),np.max(sendrate)]\n",
    "\n",
    "\n",
    "\n",
    "def simulate_bus(nrNodes,load_value,NIBufferCapacity):\n",
    "    output_directory_template = 'Bus4/nrNodes_' + str(nrNodes) + \"_load_\" + str(load_value) + \"_bufcap_\" + str(NIBufferCapacity)\n",
    "    model_path = os.getcwd()+'\\\\poosl_model'\n",
    "    instances_path = model_path + \"\\\\bus\\\\instances.poosl\"\n",
    "    network_path = model_path + \"\\\\bus\\\\BusBasedNetwork.poosl\"\n",
    "    nrNodes = int(nrNodes)\n",
    "    \n",
    "    # Generate code for n nodes\n",
    "    copypastahero.cook_copypasta('BasedNetworkSource.poosl',network_path,nrNodes)\n",
    "    copypastahero.cook_copypasta('instancesSource.poosl',instances_path,nrNodes)    \n",
    "\n",
    "    output_directory = os.path.abspath(output_directory_template)\n",
    "    model_parameters = {'Load' : load_value, \n",
    "                        'NIBufferCapacity' : int(NIBufferCapacity),\n",
    "                        'SoC_type' :  \"Bus_N_nodes\",\n",
    "                        'NumberOfNodes' : nrNodes\n",
    "                        }\n",
    "    if run_network_model.run_network_model(\n",
    "        [model_path], # library paths\n",
    "        open('bus_template.poosl').read(), # system instance template\n",
    "        nrNodes, model_parameters, output_directory) == False:\n",
    "            raise Exception(\"Model did not terminate to completion, check the output of Rotalumis!\")\n",
    "    \n",
    "    output_directory = os.path.abspath(output_directory_template.format(load_value))\n",
    "    return parse_results(nrNodes,output_directory)\n",
    "\n",
    "def simulate_mesh(nrNodes,load_value,NIBufferCapacity):\n",
    "    output_directory_template = 'mesh/nrNodes_' + str(nrNodes) + \"_load_\" + str(load_value) + \"_bufcap_\" + str(NIBufferCapacity)\n",
    "    model_path = os.getcwd()+'\\\\poosl_model'\n",
    "    # instances_path = model_path + \"\\\\bus\\\\instances.poosl\"\n",
    "    # network_path = model_path + \"\\\\bus\\\\BusBasedNetwork.poosl\"\n",
    "    nrNodes = int(nrNodes)\n",
    "    \n",
    "    # Generate code for n nodes\n",
    "    # copypastahero.cook_copypasta('BasedNetworkSource.poosl',network_path,nrNodes)\n",
    "    # copypastahero.cook_copypasta('instancesSource.poosl',instances_path,nrNodes)    \n",
    "\n",
    "    output_directory = os.path.abspath(output_directory_template)\n",
    "    model_parameters = {'Load' : load_value, \n",
    "                        'NIBufferCapacity' : int(NIBufferCapacity),\n",
    "                        'SoC_type' : 'Mesh_2x2',\n",
    "                        'NumberOfXNodes' : int(sqrt(nrNodes)),\n",
    "                        'NumberOfYNodes' : int(sqrt(nrNodes))\n",
    "                        }\n",
    "    if run_network_model.run_network_model(\n",
    "        [model_path], # library paths\n",
    "        open('mesh_template.poosl').read(), # system instance template\n",
    "        nrNodes, model_parameters, output_directory) == False:\n",
    "            raise Exception(\"Model did not terminate to completion, check the output of Rotalumis!\")\n",
    "    \n",
    "    output_directory = os.path.abspath(output_directory_template.format(load_value))\n",
    "    return parse_results(nrNodes,output_directory)\n",
    "\n",
    "config_df = pd.read_csv(\"config.csv\")\n",
    "combi_config = get_all_combinations(config_df)\n",
    "autosim(simulate_mesh,combi_config)\n",
    "\n",
    "\n",
    "\n",
    "\n",
    "\n"
   ]
  },
  {
   "cell_type": "code",
   "execution_count": null,
   "metadata": {},
   "outputs": [],
   "source": []
  }
 ],
 "metadata": {
  "kernelspec": {
   "display_name": "Python 3",
   "language": "python",
   "name": "python3"
  },
  "language_info": {
   "codemirror_mode": {
    "name": "ipython",
    "version": 3
   },
   "file_extension": ".py",
   "mimetype": "text/x-python",
   "name": "python",
   "nbconvert_exporter": "python",
   "pygments_lexer": "ipython3",
   "version": "3.6.5"
  }
 },
 "nbformat": 4,
 "nbformat_minor": 2
}
