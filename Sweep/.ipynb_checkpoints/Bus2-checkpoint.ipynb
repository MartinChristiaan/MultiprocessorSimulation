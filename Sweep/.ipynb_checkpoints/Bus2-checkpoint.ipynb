{
 "cells": [
  {
   "cell_type": "code",
   "execution_count": 1,
   "metadata": {},
   "outputs": [
    {
     "name": "stdout",
     "output_type": "stream",
     "text": [
      "Now simulating :  NumberOfNodes : 4.0 Load Value : 0.45 NIBufferCapacity : 2.0\n",
      "items left : 1 ,time last sim :  0.00 sec ,est time rem : 0 sec\n"
     ]
    },
    {
     "ename": "IndexError",
     "evalue": "list index out of range",
     "output_type": "error",
     "traceback": [
      "\u001b[1;31m---------------------------------------------------------------------------\u001b[0m",
      "\u001b[1;31mIndexError\u001b[0m                                Traceback (most recent call last)",
      "\u001b[1;32m<ipython-input-1-9dc412353d94>\u001b[0m in \u001b[0;36m<module>\u001b[1;34m()\u001b[0m\n\u001b[0;32m     94\u001b[0m \u001b[0mconfig_df\u001b[0m \u001b[1;33m=\u001b[0m \u001b[0mpd\u001b[0m\u001b[1;33m.\u001b[0m\u001b[0mread_csv\u001b[0m\u001b[1;33m(\u001b[0m\u001b[1;34m\"config.csv\"\u001b[0m\u001b[1;33m)\u001b[0m\u001b[1;33m\u001b[0m\u001b[0m\n\u001b[0;32m     95\u001b[0m \u001b[0mcombi_config\u001b[0m \u001b[1;33m=\u001b[0m \u001b[0mget_all_combinations\u001b[0m\u001b[1;33m(\u001b[0m\u001b[0mconfig_df\u001b[0m\u001b[1;33m)\u001b[0m\u001b[1;33m\u001b[0m\u001b[0m\n\u001b[1;32m---> 96\u001b[1;33m \u001b[0mautosim\u001b[0m\u001b[1;33m(\u001b[0m\u001b[0msimulate_mesh\u001b[0m\u001b[1;33m,\u001b[0m\u001b[0mcombi_config\u001b[0m\u001b[1;33m,\u001b[0m\u001b[0mresultpath\u001b[0m\u001b[1;33m=\u001b[0m\u001b[1;34m\"results/Mesh/results.csv\"\u001b[0m\u001b[1;33m)\u001b[0m\u001b[1;33m\u001b[0m\u001b[0m\n\u001b[0m\u001b[0;32m     97\u001b[0m \u001b[1;33m\u001b[0m\u001b[0m\n\u001b[0;32m     98\u001b[0m \u001b[1;33m\u001b[0m\u001b[0m\n",
      "\u001b[1;32m~\\source\\repos\\Multiprocessing\\Sweep\\autosim.py\u001b[0m in \u001b[0;36mautosim\u001b[1;34m(simfun, config_df, resultpath)\u001b[0m\n\u001b[0;32m     59\u001b[0m         \u001b[0mprint\u001b[0m\u001b[1;33m(\u001b[0m\u001b[0mmystr\u001b[0m\u001b[1;33m)\u001b[0m\u001b[1;33m\u001b[0m\u001b[0m\n\u001b[0;32m     60\u001b[0m \u001b[1;31m#        try:\u001b[0m\u001b[1;33m\u001b[0m\u001b[1;33m\u001b[0m\u001b[0m\n\u001b[1;32m---> 61\u001b[1;33m         \u001b[0mnames\u001b[0m\u001b[1;33m,\u001b[0m\u001b[0mvals\u001b[0m \u001b[1;33m=\u001b[0m \u001b[0msimfun\u001b[0m\u001b[1;33m(\u001b[0m\u001b[1;33m*\u001b[0m\u001b[0mtuple\u001b[0m\u001b[1;33m(\u001b[0m\u001b[0mrow\u001b[0m\u001b[1;33m)\u001b[0m\u001b[1;33m)\u001b[0m\u001b[1;33m\u001b[0m\u001b[0m\n\u001b[0m\u001b[0;32m     62\u001b[0m         \u001b[0mcolnames\u001b[0m \u001b[1;33m=\u001b[0m \u001b[0mnames\u001b[0m\u001b[1;33m\u001b[0m\u001b[0m\n\u001b[0;32m     63\u001b[0m         \u001b[0mcolnames\u001b[0m\u001b[1;33m.\u001b[0m\u001b[0mextend\u001b[0m\u001b[1;33m(\u001b[0m\u001b[0mconfig_df\u001b[0m\u001b[1;33m.\u001b[0m\u001b[0mcolumns\u001b[0m\u001b[1;33m)\u001b[0m\u001b[1;33m\u001b[0m\u001b[0m\n",
      "\u001b[1;32m<ipython-input-1-9dc412353d94>\u001b[0m in \u001b[0;36msimulate_mesh\u001b[1;34m(nrNodes, load_value, NIBufferCapacity)\u001b[0m\n\u001b[0;32m     72\u001b[0m     \u001b[0mdim\u001b[0m \u001b[1;33m=\u001b[0m \u001b[0mint\u001b[0m\u001b[1;33m(\u001b[0m\u001b[0msqrt\u001b[0m\u001b[1;33m(\u001b[0m\u001b[0mnrNodes\u001b[0m\u001b[1;33m)\u001b[0m\u001b[1;33m)\u001b[0m\u001b[1;33m\u001b[0m\u001b[0m\n\u001b[0;32m     73\u001b[0m     \u001b[1;31m# Generate code for n nodes\u001b[0m\u001b[1;33m\u001b[0m\u001b[1;33m\u001b[0m\u001b[0m\n\u001b[1;32m---> 74\u001b[1;33m     \u001b[0mcopypastahero\u001b[0m\u001b[1;33m.\u001b[0m\u001b[0mcook_copypasta\u001b[0m\u001b[1;33m(\u001b[0m\u001b[1;34m'sourcefiles\\\\MeshBasedNetwork.poosl'\u001b[0m\u001b[1;33m,\u001b[0m\u001b[0mnetwork_path\u001b[0m\u001b[1;33m,\u001b[0m\u001b[0mnrNodes\u001b[0m\u001b[1;33m)\u001b[0m\u001b[1;33m\u001b[0m\u001b[0m\n\u001b[0m\u001b[0;32m     75\u001b[0m     \u001b[0mcopypastahero\u001b[0m\u001b[1;33m.\u001b[0m\u001b[0mcook_copypasta\u001b[0m\u001b[1;33m(\u001b[0m\u001b[1;34m'sourcefiles\\\\mesh_instances.poosl'\u001b[0m\u001b[1;33m,\u001b[0m\u001b[0minstances_path\u001b[0m\u001b[1;33m,\u001b[0m\u001b[0mnrNodes\u001b[0m\u001b[1;33m)\u001b[0m\u001b[1;33m\u001b[0m\u001b[0m\n\u001b[0;32m     76\u001b[0m     \u001b[0mcopypastahero\u001b[0m\u001b[1;33m.\u001b[0m\u001b[0mcook_mesh\u001b[0m\u001b[1;33m(\u001b[0m\u001b[0mdim\u001b[0m\u001b[1;33m,\u001b[0m\u001b[0mmodel_path\u001b[0m \u001b[1;33m+\u001b[0m \u001b[1;34m\"\\\\mesh\\\\Meshnxn.poosl\"\u001b[0m\u001b[1;33m)\u001b[0m\u001b[1;33m\u001b[0m\u001b[0m\n",
      "\u001b[1;32m~\\source\\repos\\Multiprocessing\\Sweep\\copypastahero.py\u001b[0m in \u001b[0;36mcook_copypasta\u001b[1;34m(source, dest, nduplicates)\u001b[0m\n\u001b[0;32m     32\u001b[0m \u001b[1;33m\u001b[0m\u001b[0m\n\u001b[0;32m     33\u001b[0m             \u001b[0mi\u001b[0m\u001b[1;33m+=\u001b[0m\u001b[0mnduplicates\u001b[0m\u001b[1;33m\u001b[0m\u001b[0m\n\u001b[1;32m---> 34\u001b[1;33m         \u001b[0mwords\u001b[0m \u001b[1;33m=\u001b[0m \u001b[0mlines\u001b[0m\u001b[1;33m[\u001b[0m\u001b[0mi\u001b[0m\u001b[1;33m]\u001b[0m\u001b[1;33m.\u001b[0m\u001b[0msplit\u001b[0m\u001b[1;33m(\u001b[0m\u001b[1;33m)\u001b[0m\u001b[1;33m\u001b[0m\u001b[0m\n\u001b[0m\u001b[0;32m     35\u001b[0m         \u001b[1;31m#wordswnumbers = [word for word in words if len(''.join([i for i in word if i.isdigit()])) > 0]\u001b[0m\u001b[1;33m\u001b[0m\u001b[1;33m\u001b[0m\u001b[0m\n\u001b[0;32m     36\u001b[0m         \u001b[0mwords_stripped\u001b[0m \u001b[1;33m=\u001b[0m \u001b[1;33m[\u001b[0m\u001b[1;34m''\u001b[0m\u001b[1;33m.\u001b[0m\u001b[0mjoin\u001b[0m\u001b[1;33m(\u001b[0m\u001b[1;33m[\u001b[0m\u001b[0mi\u001b[0m \u001b[1;32mfor\u001b[0m \u001b[0mi\u001b[0m \u001b[1;32min\u001b[0m \u001b[0mword\u001b[0m \u001b[1;32mif\u001b[0m \u001b[1;32mnot\u001b[0m \u001b[0mi\u001b[0m\u001b[1;33m.\u001b[0m\u001b[0misdigit\u001b[0m\u001b[1;33m(\u001b[0m\u001b[1;33m)\u001b[0m\u001b[1;33m]\u001b[0m\u001b[1;33m)\u001b[0m\u001b[1;33m.\u001b[0m\u001b[0mstrip\u001b[0m\u001b[1;33m(\u001b[0m\u001b[1;33m)\u001b[0m \u001b[1;32mfor\u001b[0m \u001b[0mword\u001b[0m \u001b[1;32min\u001b[0m \u001b[0mwords\u001b[0m\u001b[1;33m]\u001b[0m\u001b[1;33m\u001b[0m\u001b[0m\n",
      "\u001b[1;31mIndexError\u001b[0m: list index out of range"
     ]
    }
   ],
   "source": [
    "\n",
    "import run_network_model\n",
    "import os\n",
    "import numpy as np\n",
    "import pandas as pd\n",
    "from autosim import autosim,get_all_combinations\n",
    "import copypastahero\n",
    "from math import sqrt\n",
    "def readLog(fname):\n",
    "    if not os.path.exists(fname):\n",
    "        raise Exception(\"Unable to read log: \\\"{0}\\\" does not exist!\".format(fname))\n",
    "        \n",
    "    with open(fname) as log_file:\n",
    "        value = np.nan\n",
    "        for line in log_file:\n",
    "            parts = line.split('\\t')\n",
    "            try:\n",
    "                value = float(parts[0].strip())\n",
    "            except ValueError:\n",
    "                pass\n",
    "        return value\n",
    "\n",
    "\n",
    "def parse_results(nrNodes,output_directory):\n",
    "    \n",
    "    latency_names = [\"Latency Average\",\"Latency Min\",\"Latency Max\"]\n",
    "    sendrate_names = [\"Sendrate Average\",\"Sendrate Min\",\"Sendrate Max\"]\n",
    "    latency = []\n",
    "    sendrate = []\n",
    "    for i in range(1, nrNodes + 1):\n",
    "        latency += [readLog(os.path.join(output_directory, \"latency\"+str(i)) + \".log\")]\n",
    "        sendrate += [readLog(os.path.join(output_directory, \"sendrate\"+str(i)) + \".log\")]\n",
    "    \n",
    "    \n",
    "    \n",
    "    return latency_names+sendrate_names,[np.mean(latency),np.min(latency),np.max(latency),np.mean(sendrate),np.min(sendrate),np.max(sendrate)]\n",
    "\n",
    "\n",
    "\n",
    "def simulate_bus(nrNodes,load_value,NIBufferCapacity):\n",
    "    output_directory_template = 'Bus4/nrNodes_' + str(nrNodes) + \"_load_\" + str(load_value) + \"_bufcap_\" + str(NIBufferCapacity)\n",
    "    model_path = os.getcwd()+'\\\\poosl_model'\n",
    "    instances_path = model_path + \"\\\\bus\\\\instances.poosl\"\n",
    "    network_path = model_path + \"\\\\bus\\\\BusBasedNetwork.poosl\"\n",
    "    nrNodes = int(nrNodes)\n",
    "    \n",
    "    # Generate code for n nodes\n",
    "    copypastahero.cook_copypasta('BasedNetworkSource.poosl',network_path,nrNodes)\n",
    "    copypastahero.cook_copypasta('instancesSource.poosl',instances_path,nrNodes)    \n",
    "\n",
    "    output_directory = os.path.abspath(output_directory_template)\n",
    "    model_parameters = {'Load' : load_value, \n",
    "                        'NIBufferCapacity' : int(NIBufferCapacity),\n",
    "                        'SoC_type' :  \"Bus_N_nodes\",\n",
    "                        'NumberOfNodes' : nrNodes\n",
    "                        }\n",
    "    if run_network_model.run_network_model(\n",
    "        [model_path], # library paths\n",
    "        open('bus_template.poosl').read(), # system instance template\n",
    "        nrNodes, model_parameters, output_directory) == False:\n",
    "            raise Exception(\"Model did not terminate to completion, check the output of Rotalumis!\")\n",
    "    \n",
    "    output_directory = os.path.abspath(output_directory_template.format(load_value))\n",
    "    return parse_results(nrNodes,output_directory)\n",
    "\n",
    "def simulate_mesh(nrNodes,load_value,NIBufferCapacity):\n",
    "    output_directory_template = 'mesh/nrNodes_' + str(nrNodes) + \"_load_\" + str(load_value) + \"_bufcap_\" + str(NIBufferCapacity)\n",
    "    model_path = os.getcwd()+'\\\\poosl_model'\n",
    "    instances_path = model_path + \"\\\\mesh\\\\instances.poosl\"\n",
    "    network_path = model_path + \"\\\\mesh\\\\MeshBasedNetwork.poosl\"\n",
    "    nrNodes = int(nrNodes)\n",
    "    dim = int(sqrt(nrNodes))\n",
    "    # Generate code for n nodes\n",
    "    copypastahero.cook_copypasta('sourcefiles\\\\MeshBasedNetwork.poosl',network_path,nrNodes)\n",
    "    copypastahero.cook_copypasta('sourcefiles\\\\mesh_instances.poosl',instances_path,nrNodes)    \n",
    "    copypastahero.cook_mesh(dim,model_path + \"\\\\mesh\\\\Meshnxn.poosl\")\n",
    "\n",
    "    output_directory = os.path.abspath(output_directory_template)\n",
    "    model_parameters = {'Load' : load_value, \n",
    "                        'NIBufferCapacity' : int(NIBufferCapacity),\n",
    "                        'SoC_type' : 'Mesh_nxn',\n",
    "                        'NumberOfXNodes' : dim,\n",
    "                        'NumberOfYNodes' : dim\n",
    "                        }\n",
    "    if run_network_model.run_network_model(\n",
    "        [model_path], # library paths\n",
    "        open('sourcefiles/mesh_template.poosl').read(), # system instance template\n",
    "        nrNodes, model_parameters, output_directory) == False:\n",
    "            raise Exception(\"Model did not terminate to completion, check the output of Rotalumis!\")\n",
    "    \n",
    "    output_directory = os.path.abspath(output_directory_template.format(load_value))\n",
    "    return parse_results(nrNodes,output_directory)\n",
    "\n",
    "config_df = pd.read_csv(\"config.csv\")\n",
    "combi_config = get_all_combinations(config_df)\n",
    "autosim(simulate_mesh,combi_config,resultpath=\"results/Mesh/results.csv\")\n",
    "\n",
    "\n",
    "\n",
    "\n",
    "\n"
   ]
  },
  {
   "cell_type": "code",
   "execution_count": 4,
   "metadata": {},
   "outputs": [
    {
     "name": "stdout",
     "output_type": "stream",
     "text": [
      "Now simulating :  NumberOfNodes : 4.0 Load Value : 0.45 NIBufferCapacity : 2.0\n",
      "items left : 1 ,time last sim :  0.00 sec ,est time rem : 0 sec\n",
      "There was a failure for Now simulating :  NumberOfNodes : 4.0 Load Value : 0.45 NIBufferCapacity : 2.0\n"
     ]
    },
    {
     "data": {
      "text/html": [
       "<div>\n",
       "<style scoped>\n",
       "    .dataframe tbody tr th:only-of-type {\n",
       "        vertical-align: middle;\n",
       "    }\n",
       "\n",
       "    .dataframe tbody tr th {\n",
       "        vertical-align: top;\n",
       "    }\n",
       "\n",
       "    .dataframe thead th {\n",
       "        text-align: right;\n",
       "    }\n",
       "</style>\n",
       "<table border=\"1\" class=\"dataframe\">\n",
       "  <thead>\n",
       "    <tr style=\"text-align: right;\">\n",
       "      <th></th>\n",
       "    </tr>\n",
       "  </thead>\n",
       "  <tbody>\n",
       "  </tbody>\n",
       "</table>\n",
       "</div>"
      ],
      "text/plain": [
       "Empty DataFrame\n",
       "Columns: []\n",
       "Index: []"
      ]
     },
     "execution_count": 4,
     "metadata": {},
     "output_type": "execute_result"
    }
   ],
   "source": []
  },
  {
   "cell_type": "code",
   "execution_count": null,
   "metadata": {},
   "outputs": [],
   "source": []
  }
 ],
 "metadata": {
  "kernelspec": {
   "display_name": "Python 3",
   "language": "python",
   "name": "python3"
  },
  "language_info": {
   "codemirror_mode": {
    "name": "ipython",
    "version": 3
   },
   "file_extension": ".py",
   "mimetype": "text/x-python",
   "name": "python",
   "nbconvert_exporter": "python",
   "pygments_lexer": "ipython3",
   "version": "3.6.5"
  }
 },
 "nbformat": 4,
 "nbformat_minor": 2
}
